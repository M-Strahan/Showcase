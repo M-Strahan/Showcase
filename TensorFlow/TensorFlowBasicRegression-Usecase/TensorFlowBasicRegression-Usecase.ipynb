{
 "cells": [
  {
   "cell_type": "code",
   "execution_count": 1,
   "metadata": {},
   "outputs": [
    {
     "name": "stdout",
     "output_type": "stream",
     "text": [
      "Housing.csv\n"
     ]
    }
   ],
   "source": [
    "import os\n",
    "import pandas as pd\n",
    "\n",
    "#Specify current working directory\n",
    "cwd = os.getcwd()\n",
    "\n",
    "#Identify the datafile in the current working directory and it's filepath\n",
    "#Read it into a dataframe and add column names to the features\n",
    "for file in os.listdir(cwd):\n",
    "    if file.endswith('.csv'):\n",
    "        print(file)\n",
    "        filepath = cwd + '\\\\' + file\n",
    "        dataset  = pd.read_csv(filepath,na_values='?')\n"
   ]
  },
  {
   "cell_type": "code",
   "execution_count": 2,
   "metadata": {},
   "outputs": [
    {
     "name": "stdout",
     "output_type": "stream",
     "text": [
      "<class 'pandas.core.frame.DataFrame'>\n",
      "RangeIndex: 545 entries, 0 to 544\n",
      "Data columns (total 13 columns):\n",
      " #   Column            Non-Null Count  Dtype \n",
      "---  ------            --------------  ----- \n",
      " 0   price             545 non-null    int64 \n",
      " 1   area              545 non-null    int64 \n",
      " 2   bedrooms          545 non-null    int64 \n",
      " 3   bathrooms         545 non-null    int64 \n",
      " 4   stories           545 non-null    int64 \n",
      " 5   mainroad          545 non-null    object\n",
      " 6   guestroom         545 non-null    object\n",
      " 7   basement          545 non-null    object\n",
      " 8   hotwaterheating   545 non-null    object\n",
      " 9   airconditioning   545 non-null    object\n",
      " 10  parking           545 non-null    int64 \n",
      " 11  prefarea          545 non-null    object\n",
      " 12  furnishingstatus  545 non-null    object\n",
      "dtypes: int64(6), object(7)\n",
      "memory usage: 55.5+ KB\n"
     ]
    }
   ],
   "source": [
    "#Review/check the info of the dataframe\n",
    "dataset.info()"
   ]
  },
  {
   "cell_type": "code",
   "execution_count": 3,
   "metadata": {},
   "outputs": [
    {
     "data": {
      "text/html": [
       "<div>\n",
       "<style scoped>\n",
       "    .dataframe tbody tr th:only-of-type {\n",
       "        vertical-align: middle;\n",
       "    }\n",
       "\n",
       "    .dataframe tbody tr th {\n",
       "        vertical-align: top;\n",
       "    }\n",
       "\n",
       "    .dataframe thead th {\n",
       "        text-align: right;\n",
       "    }\n",
       "</style>\n",
       "<table border=\"1\" class=\"dataframe\">\n",
       "  <thead>\n",
       "    <tr style=\"text-align: right;\">\n",
       "      <th></th>\n",
       "      <th>price</th>\n",
       "      <th>area</th>\n",
       "      <th>bedrooms</th>\n",
       "      <th>bathrooms</th>\n",
       "      <th>stories</th>\n",
       "      <th>mainroad</th>\n",
       "      <th>guestroom</th>\n",
       "      <th>basement</th>\n",
       "      <th>hotwaterheating</th>\n",
       "      <th>airconditioning</th>\n",
       "      <th>parking</th>\n",
       "      <th>prefarea</th>\n",
       "      <th>furnishingstatus</th>\n",
       "    </tr>\n",
       "  </thead>\n",
       "  <tbody>\n",
       "    <tr>\n",
       "      <th>0</th>\n",
       "      <td>13300000</td>\n",
       "      <td>7420</td>\n",
       "      <td>4</td>\n",
       "      <td>2</td>\n",
       "      <td>3</td>\n",
       "      <td>yes</td>\n",
       "      <td>no</td>\n",
       "      <td>no</td>\n",
       "      <td>no</td>\n",
       "      <td>yes</td>\n",
       "      <td>2</td>\n",
       "      <td>yes</td>\n",
       "      <td>furnished</td>\n",
       "    </tr>\n",
       "    <tr>\n",
       "      <th>1</th>\n",
       "      <td>12250000</td>\n",
       "      <td>8960</td>\n",
       "      <td>4</td>\n",
       "      <td>4</td>\n",
       "      <td>4</td>\n",
       "      <td>yes</td>\n",
       "      <td>no</td>\n",
       "      <td>no</td>\n",
       "      <td>no</td>\n",
       "      <td>yes</td>\n",
       "      <td>3</td>\n",
       "      <td>no</td>\n",
       "      <td>furnished</td>\n",
       "    </tr>\n",
       "    <tr>\n",
       "      <th>2</th>\n",
       "      <td>12250000</td>\n",
       "      <td>9960</td>\n",
       "      <td>3</td>\n",
       "      <td>2</td>\n",
       "      <td>2</td>\n",
       "      <td>yes</td>\n",
       "      <td>no</td>\n",
       "      <td>yes</td>\n",
       "      <td>no</td>\n",
       "      <td>no</td>\n",
       "      <td>2</td>\n",
       "      <td>yes</td>\n",
       "      <td>semi-furnished</td>\n",
       "    </tr>\n",
       "    <tr>\n",
       "      <th>3</th>\n",
       "      <td>12215000</td>\n",
       "      <td>7500</td>\n",
       "      <td>4</td>\n",
       "      <td>2</td>\n",
       "      <td>2</td>\n",
       "      <td>yes</td>\n",
       "      <td>no</td>\n",
       "      <td>yes</td>\n",
       "      <td>no</td>\n",
       "      <td>yes</td>\n",
       "      <td>3</td>\n",
       "      <td>yes</td>\n",
       "      <td>furnished</td>\n",
       "    </tr>\n",
       "    <tr>\n",
       "      <th>4</th>\n",
       "      <td>11410000</td>\n",
       "      <td>7420</td>\n",
       "      <td>4</td>\n",
       "      <td>1</td>\n",
       "      <td>2</td>\n",
       "      <td>yes</td>\n",
       "      <td>yes</td>\n",
       "      <td>yes</td>\n",
       "      <td>no</td>\n",
       "      <td>yes</td>\n",
       "      <td>2</td>\n",
       "      <td>no</td>\n",
       "      <td>furnished</td>\n",
       "    </tr>\n",
       "  </tbody>\n",
       "</table>\n",
       "</div>"
      ],
      "text/plain": [
       "      price  area  bedrooms  bathrooms  stories mainroad guestroom basement  \\\n",
       "0  13300000  7420         4          2        3      yes        no       no   \n",
       "1  12250000  8960         4          4        4      yes        no       no   \n",
       "2  12250000  9960         3          2        2      yes        no      yes   \n",
       "3  12215000  7500         4          2        2      yes        no      yes   \n",
       "4  11410000  7420         4          1        2      yes       yes      yes   \n",
       "\n",
       "  hotwaterheating airconditioning  parking prefarea furnishingstatus  \n",
       "0              no             yes        2      yes        furnished  \n",
       "1              no             yes        3       no        furnished  \n",
       "2              no              no        2      yes   semi-furnished  \n",
       "3              no             yes        3      yes        furnished  \n",
       "4              no             yes        2       no        furnished  "
      ]
     },
     "execution_count": 3,
     "metadata": {},
     "output_type": "execute_result"
    }
   ],
   "source": [
    "#Have a look at the first few rows of the dataframe\n",
    "dataset.head()"
   ]
  },
  {
   "cell_type": "code",
   "execution_count": 4,
   "metadata": {},
   "outputs": [
    {
     "name": "stderr",
     "output_type": "stream",
     "text": [
      "Summarize dataset: 100%|██████████| 36/36 [00:06<00:00,  5.15it/s, Completed]                         \n",
      "Generate report structure: 100%|██████████| 1/1 [00:04<00:00,  4.06s/it]\n",
      "Render HTML: 100%|██████████| 1/1 [00:00<00:00,  1.37it/s]\n",
      "Export report to file: 100%|██████████| 1/1 [00:00<00:00, 167.02it/s]\n"
     ]
    }
   ],
   "source": [
    "#create html file for pandas profiling of dataset - having a more detailed understanding of the data\n",
    "#Also identifies possible issues such as missing values\n",
    "\n",
    "import pandas_profiling\n",
    "profile = dataset.profile_report(title='Pandas Profiling Report')\n",
    "profile.to_file(output_file=\"pandas_profiling.html\")"
   ]
  },
  {
   "cell_type": "code",
   "execution_count": 5,
   "metadata": {},
   "outputs": [],
   "source": [
    "#Render the pandas profile within vscode\n",
    "#profile.to_notebook_iframe()\n",
    "#Trying again..."
   ]
  },
  {
   "cell_type": "code",
   "execution_count": 6,
   "metadata": {},
   "outputs": [],
   "source": [
    "import matplotlib.pyplot as plt\n",
    "import numpy as np\n",
    "import pandas as pd\n",
    "import seaborn as sns\n",
    "\n",
    "# Make NumPy printouts easier to read.\n",
    "np.set_printoptions(precision=3, suppress=True)"
   ]
  },
  {
   "cell_type": "code",
   "execution_count": 7,
   "metadata": {},
   "outputs": [
    {
     "name": "stdout",
     "output_type": "stream",
     "text": [
      "2.10.1\n"
     ]
    }
   ],
   "source": [
    "import tensorflow as tf\n",
    "from tensorflow import keras\n",
    "from tensorflow.keras import layers\n",
    "print(tf.__version__)"
   ]
  },
  {
   "cell_type": "code",
   "execution_count": 8,
   "metadata": {},
   "outputs": [
    {
     "data": {
      "text/plain": [
       "price               0\n",
       "area                0\n",
       "bedrooms            0\n",
       "bathrooms           0\n",
       "stories             0\n",
       "mainroad            0\n",
       "guestroom           0\n",
       "basement            0\n",
       "hotwaterheating     0\n",
       "airconditioning     0\n",
       "parking             0\n",
       "prefarea            0\n",
       "furnishingstatus    0\n",
       "dtype: int64"
      ]
     },
     "execution_count": 8,
     "metadata": {},
     "output_type": "execute_result"
    }
   ],
   "source": [
    "#View NA records - these are shown in the pandas profile as well\n",
    "#There are no NAs in this dataset\n",
    "dataset.isna().sum()"
   ]
  },
  {
   "cell_type": "code",
   "execution_count": 9,
   "metadata": {},
   "outputs": [],
   "source": [
    "# drop records with null - this is redundant for this dataset\n",
    "dataset = dataset.dropna()"
   ]
  },
  {
   "cell_type": "code",
   "execution_count": 10,
   "metadata": {},
   "outputs": [],
   "source": [
    "#area will be the feature used for this univariable regression\n",
    "#Drop the other columns\n",
    "\n",
    "dataset.drop(\n",
    "['bedrooms',\n",
    "'bathrooms',\n",
    "'stories',\n",
    "'mainroad',\n",
    "'guestroom',\n",
    "'basement',\n",
    "'hotwaterheating',\n",
    "'airconditioning',\n",
    "'parking',\n",
    "'prefarea',\n",
    "'furnishingstatus'],inplace=True, axis=1)"
   ]
  },
  {
   "cell_type": "code",
   "execution_count": 11,
   "metadata": {},
   "outputs": [
    {
     "data": {
      "text/html": [
       "<div>\n",
       "<style scoped>\n",
       "    .dataframe tbody tr th:only-of-type {\n",
       "        vertical-align: middle;\n",
       "    }\n",
       "\n",
       "    .dataframe tbody tr th {\n",
       "        vertical-align: top;\n",
       "    }\n",
       "\n",
       "    .dataframe thead th {\n",
       "        text-align: right;\n",
       "    }\n",
       "</style>\n",
       "<table border=\"1\" class=\"dataframe\">\n",
       "  <thead>\n",
       "    <tr style=\"text-align: right;\">\n",
       "      <th></th>\n",
       "      <th>price</th>\n",
       "      <th>area</th>\n",
       "    </tr>\n",
       "  </thead>\n",
       "  <tbody>\n",
       "    <tr>\n",
       "      <th>0</th>\n",
       "      <td>13300000</td>\n",
       "      <td>7420</td>\n",
       "    </tr>\n",
       "    <tr>\n",
       "      <th>1</th>\n",
       "      <td>12250000</td>\n",
       "      <td>8960</td>\n",
       "    </tr>\n",
       "    <tr>\n",
       "      <th>2</th>\n",
       "      <td>12250000</td>\n",
       "      <td>9960</td>\n",
       "    </tr>\n",
       "    <tr>\n",
       "      <th>3</th>\n",
       "      <td>12215000</td>\n",
       "      <td>7500</td>\n",
       "    </tr>\n",
       "    <tr>\n",
       "      <th>4</th>\n",
       "      <td>11410000</td>\n",
       "      <td>7420</td>\n",
       "    </tr>\n",
       "  </tbody>\n",
       "</table>\n",
       "</div>"
      ],
      "text/plain": [
       "      price  area\n",
       "0  13300000  7420\n",
       "1  12250000  8960\n",
       "2  12250000  9960\n",
       "3  12215000  7500\n",
       "4  11410000  7420"
      ]
     },
     "execution_count": 11,
     "metadata": {},
     "output_type": "execute_result"
    }
   ],
   "source": [
    "dataset.head()"
   ]
  },
  {
   "cell_type": "code",
   "execution_count": 12,
   "metadata": {},
   "outputs": [],
   "source": [
    "#Create a training and test datasets that are exclusive of eachother\n",
    "train_dataset = dataset.sample(frac=0.8, random_state=0)\n",
    "test_dataset = dataset.drop(train_dataset.index)"
   ]
  },
  {
   "cell_type": "code",
   "execution_count": 13,
   "metadata": {},
   "outputs": [
    {
     "data": {
      "text/html": [
       "<div>\n",
       "<style scoped>\n",
       "    .dataframe tbody tr th:only-of-type {\n",
       "        vertical-align: middle;\n",
       "    }\n",
       "\n",
       "    .dataframe tbody tr th {\n",
       "        vertical-align: top;\n",
       "    }\n",
       "\n",
       "    .dataframe thead th {\n",
       "        text-align: right;\n",
       "    }\n",
       "</style>\n",
       "<table border=\"1\" class=\"dataframe\">\n",
       "  <thead>\n",
       "    <tr style=\"text-align: right;\">\n",
       "      <th></th>\n",
       "      <th>count</th>\n",
       "      <th>mean</th>\n",
       "      <th>std</th>\n",
       "      <th>min</th>\n",
       "      <th>25%</th>\n",
       "      <th>50%</th>\n",
       "      <th>75%</th>\n",
       "      <th>max</th>\n",
       "    </tr>\n",
       "  </thead>\n",
       "  <tbody>\n",
       "    <tr>\n",
       "      <th>price</th>\n",
       "      <td>436.0</td>\n",
       "      <td>4.767705e+06</td>\n",
       "      <td>1.888795e+06</td>\n",
       "      <td>1750000.0</td>\n",
       "      <td>3430000.0</td>\n",
       "      <td>4340000.0</td>\n",
       "      <td>5740000.0</td>\n",
       "      <td>12250000.0</td>\n",
       "    </tr>\n",
       "    <tr>\n",
       "      <th>area</th>\n",
       "      <td>436.0</td>\n",
       "      <td>5.190005e+03</td>\n",
       "      <td>2.229190e+03</td>\n",
       "      <td>1650.0</td>\n",
       "      <td>3580.5</td>\n",
       "      <td>4636.0</td>\n",
       "      <td>6420.0</td>\n",
       "      <td>16200.0</td>\n",
       "    </tr>\n",
       "  </tbody>\n",
       "</table>\n",
       "</div>"
      ],
      "text/plain": [
       "       count          mean           std        min        25%        50%  \\\n",
       "price  436.0  4.767705e+06  1.888795e+06  1750000.0  3430000.0  4340000.0   \n",
       "area   436.0  5.190005e+03  2.229190e+03     1650.0     3580.5     4636.0   \n",
       "\n",
       "             75%         max  \n",
       "price  5740000.0  12250000.0  \n",
       "area      6420.0     16200.0  "
      ]
     },
     "execution_count": 13,
     "metadata": {},
     "output_type": "execute_result"
    }
   ],
   "source": [
    "#Summary of descriptive stats for training dataset\n",
    "train_dataset.describe().transpose()"
   ]
  },
  {
   "cell_type": "code",
   "execution_count": 14,
   "metadata": {},
   "outputs": [
    {
     "data": {
      "text/html": [
       "<div>\n",
       "<style scoped>\n",
       "    .dataframe tbody tr th:only-of-type {\n",
       "        vertical-align: middle;\n",
       "    }\n",
       "\n",
       "    .dataframe tbody tr th {\n",
       "        vertical-align: top;\n",
       "    }\n",
       "\n",
       "    .dataframe thead th {\n",
       "        text-align: right;\n",
       "    }\n",
       "</style>\n",
       "<table border=\"1\" class=\"dataframe\">\n",
       "  <thead>\n",
       "    <tr style=\"text-align: right;\">\n",
       "      <th></th>\n",
       "      <th>price</th>\n",
       "      <th>area</th>\n",
       "    </tr>\n",
       "  </thead>\n",
       "  <tbody>\n",
       "    <tr>\n",
       "      <th>239</th>\n",
       "      <td>4585000</td>\n",
       "      <td>4000</td>\n",
       "    </tr>\n",
       "    <tr>\n",
       "      <th>113</th>\n",
       "      <td>6083000</td>\n",
       "      <td>9620</td>\n",
       "    </tr>\n",
       "    <tr>\n",
       "      <th>325</th>\n",
       "      <td>4007500</td>\n",
       "      <td>3460</td>\n",
       "    </tr>\n",
       "    <tr>\n",
       "      <th>66</th>\n",
       "      <td>6930000</td>\n",
       "      <td>13200</td>\n",
       "    </tr>\n",
       "    <tr>\n",
       "      <th>479</th>\n",
       "      <td>2940000</td>\n",
       "      <td>3660</td>\n",
       "    </tr>\n",
       "  </tbody>\n",
       "</table>\n",
       "</div>"
      ],
      "text/plain": [
       "       price   area\n",
       "239  4585000   4000\n",
       "113  6083000   9620\n",
       "325  4007500   3460\n",
       "66   6930000  13200\n",
       "479  2940000   3660"
      ]
     },
     "execution_count": 14,
     "metadata": {},
     "output_type": "execute_result"
    }
   ],
   "source": [
    "train_dataset.head()"
   ]
  },
  {
   "cell_type": "code",
   "execution_count": 15,
   "metadata": {},
   "outputs": [],
   "source": [
    "#Create a list of training and test dataset features \n",
    "train_features = train_dataset.copy()\n",
    "test_features = test_dataset.copy()\n",
    "\n",
    "#Remove the outcome variable 'MPG' (the label) from the feature datasets \n",
    "train_labels = train_features.pop('price')\n",
    "test_labels = test_features.pop('price')"
   ]
  },
  {
   "cell_type": "code",
   "execution_count": 16,
   "metadata": {},
   "outputs": [
    {
     "data": {
      "text/plain": [
       "239    4585000\n",
       "113    6083000\n",
       "325    4007500\n",
       "66     6930000\n",
       "479    2940000\n",
       "        ...   \n",
       "419    3360000\n",
       "62     7070000\n",
       "478    2940000\n",
       "377    3640000\n",
       "130    5866000\n",
       "Name: price, Length: 436, dtype: int64"
      ]
     },
     "execution_count": 16,
     "metadata": {},
     "output_type": "execute_result"
    }
   ],
   "source": [
    "train_labels"
   ]
  },
  {
   "cell_type": "code",
   "execution_count": 17,
   "metadata": {},
   "outputs": [
    {
     "data": {
      "text/plain": [
       "0      13300000\n",
       "9       9800000\n",
       "23      8645000\n",
       "28      8400000\n",
       "31      8400000\n",
       "         ...   \n",
       "515     2450000\n",
       "517     2450000\n",
       "529     2275000\n",
       "530     2240000\n",
       "538     1890000\n",
       "Name: price, Length: 109, dtype: int64"
      ]
     },
     "execution_count": 17,
     "metadata": {},
     "output_type": "execute_result"
    }
   ],
   "source": [
    "test_labels"
   ]
  },
  {
   "cell_type": "code",
   "execution_count": 18,
   "metadata": {},
   "outputs": [
    {
     "data": {
      "text/html": [
       "<div>\n",
       "<style scoped>\n",
       "    .dataframe tbody tr th:only-of-type {\n",
       "        vertical-align: middle;\n",
       "    }\n",
       "\n",
       "    .dataframe tbody tr th {\n",
       "        vertical-align: top;\n",
       "    }\n",
       "\n",
       "    .dataframe thead th {\n",
       "        text-align: right;\n",
       "    }\n",
       "</style>\n",
       "<table border=\"1\" class=\"dataframe\">\n",
       "  <thead>\n",
       "    <tr style=\"text-align: right;\">\n",
       "      <th></th>\n",
       "      <th>mean</th>\n",
       "      <th>std</th>\n",
       "    </tr>\n",
       "  </thead>\n",
       "  <tbody>\n",
       "    <tr>\n",
       "      <th>price</th>\n",
       "      <td>4.767705e+06</td>\n",
       "      <td>1.888795e+06</td>\n",
       "    </tr>\n",
       "    <tr>\n",
       "      <th>area</th>\n",
       "      <td>5.190005e+03</td>\n",
       "      <td>2.229190e+03</td>\n",
       "    </tr>\n",
       "  </tbody>\n",
       "</table>\n",
       "</div>"
      ],
      "text/plain": [
       "               mean           std\n",
       "price  4.767705e+06  1.888795e+06\n",
       "area   5.190005e+03  2.229190e+03"
      ]
     },
     "execution_count": 18,
     "metadata": {},
     "output_type": "execute_result"
    }
   ],
   "source": [
    "#Summary of select descriptive stats from train_dataset\n",
    "#Observe that features have substiantlly different scales and ranges\n",
    "#This can cause issues/inefficiencies with training/optimising the model\n",
    "#Specifically - varying scales can interfere with the weightings/gradients\n",
    "#With some features being dominated and others dominating - interfering with the model\n",
    "\n",
    "train_dataset.describe().transpose()[['mean', 'std']]"
   ]
  },
  {
   "cell_type": "code",
   "execution_count": 19,
   "metadata": {},
   "outputs": [],
   "source": [
    "#Normalization of data is a simple best practice to manage the issues related to variables of different scales\n",
    "#The step below create a layer to assist with normalizing data\n",
    "#In this case - normalising a bunch of categorical fields... but doens't really matter? - we won't use them\n",
    "normalizer = tf.keras.layers.Normalization(axis=-1)"
   ]
  },
  {
   "cell_type": "code",
   "execution_count": 20,
   "metadata": {},
   "outputs": [],
   "source": [
    "#Then run the train_features dataset through the normalizer layer to calculate the mean and variance of the dataset\n",
    "#https://www.tensorflow.org/api_docs/python/tf/keras/layers/Normalization#adapt\n",
    "normalizer.adapt(np.array(train_features))"
   ]
  },
  {
   "cell_type": "code",
   "execution_count": 21,
   "metadata": {},
   "outputs": [
    {
     "data": {
      "text/plain": [
       "array([[5190.005]], dtype=float32)"
      ]
     },
     "execution_count": 21,
     "metadata": {},
     "output_type": "execute_result"
    }
   ],
   "source": [
    "#View the train_features feature means returned as an array\n",
    "normalizer.mean.numpy()"
   ]
  },
  {
   "cell_type": "code",
   "execution_count": 22,
   "metadata": {},
   "outputs": [
    {
     "data": {
      "text/html": [
       "<div>\n",
       "<style scoped>\n",
       "    .dataframe tbody tr th:only-of-type {\n",
       "        vertical-align: middle;\n",
       "    }\n",
       "\n",
       "    .dataframe tbody tr th {\n",
       "        vertical-align: top;\n",
       "    }\n",
       "\n",
       "    .dataframe thead th {\n",
       "        text-align: right;\n",
       "    }\n",
       "</style>\n",
       "<table border=\"1\" class=\"dataframe\">\n",
       "  <thead>\n",
       "    <tr style=\"text-align: right;\">\n",
       "      <th></th>\n",
       "      <th>area</th>\n",
       "    </tr>\n",
       "  </thead>\n",
       "  <tbody>\n",
       "    <tr>\n",
       "      <th>239</th>\n",
       "      <td>4000</td>\n",
       "    </tr>\n",
       "    <tr>\n",
       "      <th>113</th>\n",
       "      <td>9620</td>\n",
       "    </tr>\n",
       "    <tr>\n",
       "      <th>325</th>\n",
       "      <td>3460</td>\n",
       "    </tr>\n",
       "    <tr>\n",
       "      <th>66</th>\n",
       "      <td>13200</td>\n",
       "    </tr>\n",
       "    <tr>\n",
       "      <th>479</th>\n",
       "      <td>3660</td>\n",
       "    </tr>\n",
       "  </tbody>\n",
       "</table>\n",
       "</div>"
      ],
      "text/plain": [
       "      area\n",
       "239   4000\n",
       "113   9620\n",
       "325   3460\n",
       "66   13200\n",
       "479   3660"
      ]
     },
     "execution_count": 22,
     "metadata": {},
     "output_type": "execute_result"
    }
   ],
   "source": [
    "train_features.head()"
   ]
  },
  {
   "cell_type": "code",
   "execution_count": 23,
   "metadata": {},
   "outputs": [
    {
     "data": {
      "text/plain": [
       "array([[4000]], dtype=int64)"
      ]
     },
     "execution_count": 23,
     "metadata": {},
     "output_type": "execute_result"
    }
   ],
   "source": [
    "#Return the first row of the train_features dataset as first\n",
    "first = np.array(train_features[:1])\n",
    "first"
   ]
  },
  {
   "cell_type": "code",
   "execution_count": 24,
   "metadata": {},
   "outputs": [
    {
     "data": {
      "text/plain": [
       "array([[-0.534]], dtype=float32)"
      ]
     },
     "execution_count": 24,
     "metadata": {},
     "output_type": "execute_result"
    }
   ],
   "source": [
    "#Run the first row through the normalizer layer to normalize it  - produce the normalized output\n",
    "#Comparing this output to above shows how the values have been normalized\n",
    "normalizer(first).numpy()"
   ]
  },
  {
   "cell_type": "code",
   "execution_count": 25,
   "metadata": {},
   "outputs": [],
   "source": [
    "#Linear regression with a single variable\n",
    "\n",
    "#Create the training dataset with only the Horsepower feature\n",
    "area = np.array(train_features['area'])\n",
    "\n",
    "area_normalizer = layers.Normalization(input_shape=[1,], axis=None)\n",
    "area_normalizer.adapt(area)\n"
   ]
  },
  {
   "cell_type": "code",
   "execution_count": 26,
   "metadata": {},
   "outputs": [
    {
     "name": "stdout",
     "output_type": "stream",
     "text": [
      "Model: \"sequential\"\n",
      "_________________________________________________________________\n",
      " Layer (type)                Output Shape              Param #   \n",
      "=================================================================\n",
      " normalization_1 (Normalizat  (None, 1)                3         \n",
      " ion)                                                            \n",
      "                                                                 \n",
      " dense (Dense)               (None, 1)                 2         \n",
      "                                                                 \n",
      "=================================================================\n",
      "Total params: 5\n",
      "Trainable params: 2\n",
      "Non-trainable params: 3\n",
      "_________________________________________________________________\n"
     ]
    }
   ],
   "source": [
    "area_model = tf.keras.Sequential([\n",
    "    area_normalizer,\n",
    "    layers.Dense(units=1)\n",
    "])\n",
    "area_model.summary()"
   ]
  },
  {
   "cell_type": "code",
   "execution_count": 27,
   "metadata": {},
   "outputs": [
    {
     "name": "stdout",
     "output_type": "stream",
     "text": [
      "1/1 [==============================] - 0s 73ms/step\n"
     ]
    },
    {
     "data": {
      "text/plain": [
       "array([[ 0.733],\n",
       "       [-2.727],\n",
       "       [ 1.065],\n",
       "       [-4.932],\n",
       "       [ 0.942],\n",
       "       [-0.714],\n",
       "       [ 0.825],\n",
       "       [ 1.053],\n",
       "       [ 1.033],\n",
       "       [-2.346]], dtype=float32)"
      ]
     },
     "execution_count": 27,
     "metadata": {},
     "output_type": "execute_result"
    }
   ],
   "source": [
    "area_model.predict(area[:10])"
   ]
  },
  {
   "cell_type": "code",
   "execution_count": 28,
   "metadata": {},
   "outputs": [],
   "source": [
    "area_model.compile(\n",
    "    #Learning rate parameter was initially set too low from previous model\n",
    "    #This was observed by the the plot 'plot_loss(history)' below where the error wasn't converging/improving quickly enough over each epoch\n",
    "    #optimizer=tf.keras.optimizers.Adam(learning_rate=0.1),\n",
    "    \n",
    "    #Tinkering with the learning rate then setting it to high, where the error was now erratic, overshooting in either direction over each epoch.\n",
    "    #In this case... the change in error between each epoch was a large relative to the average price of houses (percentage)\n",
    "    #optimizer=tf.keras.optimizers.Adam(learning_rate=1e10),\n",
    "\n",
    "    #Finding a bit more of a sweet spot for this parameter where the error converged\n",
    "    optimizer=tf.keras.optimizers.Adam(learning_rate=1e4),\n",
    "    loss='mean_absolute_error')"
   ]
  },
  {
   "cell_type": "code",
   "execution_count": 29,
   "metadata": {},
   "outputs": [
    {
     "name": "stdout",
     "output_type": "stream",
     "text": [
      "Epoch 1/100\n",
      "11/11 [==============================] - 0s 14ms/step - loss: 4697317.0000 - val_loss: 4742794.5000\n",
      "Epoch 2/100\n",
      "11/11 [==============================] - 0s 3ms/step - loss: 4586828.0000 - val_loss: 4632822.5000\n",
      "Epoch 3/100\n",
      "11/11 [==============================] - 0s 3ms/step - loss: 4477608.5000 - val_loss: 4523257.0000\n",
      "Epoch 4/100\n",
      "11/11 [==============================] - 0s 3ms/step - loss: 4367278.5000 - val_loss: 4412912.5000\n",
      "Epoch 5/100\n",
      "11/11 [==============================] - 0s 3ms/step - loss: 4257088.5000 - val_loss: 4302913.5000\n",
      "Epoch 6/100\n",
      "11/11 [==============================] - 0s 3ms/step - loss: 4147049.2500 - val_loss: 4193199.2500\n",
      "Epoch 7/100\n",
      "11/11 [==============================] - 0s 3ms/step - loss: 4036822.7500 - val_loss: 4083260.2500\n",
      "Epoch 8/100\n",
      "11/11 [==============================] - 0s 3ms/step - loss: 3926719.0000 - val_loss: 3973215.7500\n",
      "Epoch 9/100\n",
      "11/11 [==============================] - 0s 3ms/step - loss: 3817743.5000 - val_loss: 3862855.7500\n",
      "Epoch 10/100\n",
      "11/11 [==============================] - 0s 3ms/step - loss: 3706780.0000 - val_loss: 3753185.0000\n",
      "Epoch 11/100\n",
      "11/11 [==============================] - 0s 3ms/step - loss: 3597067.0000 - val_loss: 3643469.0000\n",
      "Epoch 12/100\n",
      "11/11 [==============================] - 0s 3ms/step - loss: 3486807.5000 - val_loss: 3533343.2500\n",
      "Epoch 13/100\n",
      "11/11 [==============================] - 0s 3ms/step - loss: 3376742.2500 - val_loss: 3423334.2500\n",
      "Epoch 14/100\n",
      "11/11 [==============================] - 0s 3ms/step - loss: 3266770.0000 - val_loss: 3313472.0000\n",
      "Epoch 15/100\n",
      "11/11 [==============================] - 0s 3ms/step - loss: 3156599.2500 - val_loss: 3203573.7500\n",
      "Epoch 16/100\n",
      "11/11 [==============================] - 0s 3ms/step - loss: 3046709.0000 - val_loss: 3093578.5000\n",
      "Epoch 17/100\n",
      "11/11 [==============================] - 0s 3ms/step - loss: 2937760.7500 - val_loss: 2984408.7500\n",
      "Epoch 18/100\n",
      "11/11 [==============================] - 0s 3ms/step - loss: 2831009.0000 - val_loss: 2878639.7500\n",
      "Epoch 19/100\n",
      "11/11 [==============================] - 0s 3ms/step - loss: 2725913.7500 - val_loss: 2774315.5000\n",
      "Epoch 20/100\n",
      "11/11 [==============================] - 0s 3ms/step - loss: 2623520.7500 - val_loss: 2669931.7500\n",
      "Epoch 21/100\n",
      "11/11 [==============================] - 0s 3ms/step - loss: 2519134.2500 - val_loss: 2567977.5000\n",
      "Epoch 22/100\n",
      "11/11 [==============================] - 0s 3ms/step - loss: 2418762.0000 - val_loss: 2469978.0000\n",
      "Epoch 23/100\n",
      "11/11 [==============================] - 0s 3ms/step - loss: 2318556.2500 - val_loss: 2373366.2500\n",
      "Epoch 24/100\n",
      "11/11 [==============================] - 0s 3ms/step - loss: 2220542.0000 - val_loss: 2277565.2500\n",
      "Epoch 25/100\n",
      "11/11 [==============================] - 0s 3ms/step - loss: 2125905.0000 - val_loss: 2184687.5000\n",
      "Epoch 26/100\n",
      "11/11 [==============================] - 0s 3ms/step - loss: 2035012.3750 - val_loss: 2097232.0000\n",
      "Epoch 27/100\n",
      "11/11 [==============================] - 0s 3ms/step - loss: 1946878.5000 - val_loss: 2019310.7500\n",
      "Epoch 28/100\n",
      "11/11 [==============================] - 0s 3ms/step - loss: 1861937.2500 - val_loss: 1946620.3750\n",
      "Epoch 29/100\n",
      "11/11 [==============================] - 0s 3ms/step - loss: 1778516.6250 - val_loss: 1877411.6250\n",
      "Epoch 30/100\n",
      "11/11 [==============================] - 0s 3ms/step - loss: 1704811.6250 - val_loss: 1810692.0000\n",
      "Epoch 31/100\n",
      "11/11 [==============================] - 0s 3ms/step - loss: 1638459.3750 - val_loss: 1752194.1250\n",
      "Epoch 32/100\n",
      "11/11 [==============================] - 0s 3ms/step - loss: 1575829.1250 - val_loss: 1697759.5000\n",
      "Epoch 33/100\n",
      "11/11 [==============================] - 0s 3ms/step - loss: 1521047.7500 - val_loss: 1647069.5000\n",
      "Epoch 34/100\n",
      "11/11 [==============================] - 0s 3ms/step - loss: 1472136.5000 - val_loss: 1600862.8750\n",
      "Epoch 35/100\n",
      "11/11 [==============================] - 0s 3ms/step - loss: 1431386.5000 - val_loss: 1560898.1250\n",
      "Epoch 36/100\n",
      "11/11 [==============================] - 0s 3ms/step - loss: 1391859.2500 - val_loss: 1529769.2500\n",
      "Epoch 37/100\n",
      "11/11 [==============================] - 0s 3ms/step - loss: 1358826.5000 - val_loss: 1498716.6250\n",
      "Epoch 38/100\n",
      "11/11 [==============================] - 0s 3ms/step - loss: 1328582.3750 - val_loss: 1474513.1250\n",
      "Epoch 39/100\n",
      "11/11 [==============================] - 0s 3ms/step - loss: 1302629.6250 - val_loss: 1450799.5000\n",
      "Epoch 40/100\n",
      "11/11 [==============================] - 0s 3ms/step - loss: 1282411.8750 - val_loss: 1427692.7500\n",
      "Epoch 41/100\n",
      "11/11 [==============================] - 0s 3ms/step - loss: 1264231.8750 - val_loss: 1412898.6250\n",
      "Epoch 42/100\n",
      "11/11 [==============================] - 0s 3ms/step - loss: 1247442.8750 - val_loss: 1398409.5000\n",
      "Epoch 43/100\n",
      "11/11 [==============================] - 0s 3ms/step - loss: 1234026.6250 - val_loss: 1387145.0000\n",
      "Epoch 44/100\n",
      "11/11 [==============================] - 0s 3ms/step - loss: 1222294.6250 - val_loss: 1374994.1250\n",
      "Epoch 45/100\n",
      "11/11 [==============================] - 0s 3ms/step - loss: 1212265.1250 - val_loss: 1364077.5000\n",
      "Epoch 46/100\n",
      "11/11 [==============================] - 0s 4ms/step - loss: 1202725.5000 - val_loss: 1354375.8750\n",
      "Epoch 47/100\n",
      "11/11 [==============================] - 0s 4ms/step - loss: 1194413.5000 - val_loss: 1345757.2500\n",
      "Epoch 48/100\n",
      "11/11 [==============================] - 0s 3ms/step - loss: 1187663.7500 - val_loss: 1338136.0000\n",
      "Epoch 49/100\n",
      "11/11 [==============================] - 0s 4ms/step - loss: 1181777.5000 - val_loss: 1330720.1250\n",
      "Epoch 50/100\n",
      "11/11 [==============================] - 0s 4ms/step - loss: 1175189.3750 - val_loss: 1324892.5000\n",
      "Epoch 51/100\n",
      "11/11 [==============================] - 0s 4ms/step - loss: 1170431.5000 - val_loss: 1319713.6250\n",
      "Epoch 52/100\n",
      "11/11 [==============================] - 0s 3ms/step - loss: 1164577.5000 - val_loss: 1315536.8750\n",
      "Epoch 53/100\n",
      "11/11 [==============================] - 0s 3ms/step - loss: 1161195.6250 - val_loss: 1312453.2500\n",
      "Epoch 54/100\n",
      "11/11 [==============================] - 0s 3ms/step - loss: 1157563.0000 - val_loss: 1309994.1250\n",
      "Epoch 55/100\n",
      "11/11 [==============================] - 0s 3ms/step - loss: 1155213.7500 - val_loss: 1307139.1250\n",
      "Epoch 56/100\n",
      "11/11 [==============================] - 0s 3ms/step - loss: 1152851.5000 - val_loss: 1304918.6250\n",
      "Epoch 57/100\n",
      "11/11 [==============================] - 0s 3ms/step - loss: 1150910.1250 - val_loss: 1302935.1250\n",
      "Epoch 58/100\n",
      "11/11 [==============================] - 0s 3ms/step - loss: 1149222.2500 - val_loss: 1300387.1250\n",
      "Epoch 59/100\n",
      "11/11 [==============================] - 0s 3ms/step - loss: 1147652.6250 - val_loss: 1297740.7500\n",
      "Epoch 60/100\n",
      "11/11 [==============================] - 0s 3ms/step - loss: 1146325.0000 - val_loss: 1295946.8750\n",
      "Epoch 61/100\n",
      "11/11 [==============================] - 0s 3ms/step - loss: 1145051.1250 - val_loss: 1295176.3750\n",
      "Epoch 62/100\n",
      "11/11 [==============================] - 0s 3ms/step - loss: 1144253.5000 - val_loss: 1293980.8750\n",
      "Epoch 63/100\n",
      "11/11 [==============================] - 0s 3ms/step - loss: 1144012.7500 - val_loss: 1292806.6250\n",
      "Epoch 64/100\n",
      "11/11 [==============================] - 0s 3ms/step - loss: 1143119.3750 - val_loss: 1292566.1250\n",
      "Epoch 65/100\n",
      "11/11 [==============================] - 0s 3ms/step - loss: 1144488.3750 - val_loss: 1292181.5000\n",
      "Epoch 66/100\n",
      "11/11 [==============================] - 0s 4ms/step - loss: 1142478.2500 - val_loss: 1291220.8750\n",
      "Epoch 67/100\n",
      "11/11 [==============================] - 0s 4ms/step - loss: 1142443.2500 - val_loss: 1290642.3750\n",
      "Epoch 68/100\n",
      "11/11 [==============================] - 0s 4ms/step - loss: 1141983.1250 - val_loss: 1290195.1250\n",
      "Epoch 69/100\n",
      "11/11 [==============================] - 0s 4ms/step - loss: 1142025.3750 - val_loss: 1290066.7500\n",
      "Epoch 70/100\n",
      "11/11 [==============================] - 0s 3ms/step - loss: 1141914.5000 - val_loss: 1289689.2500\n",
      "Epoch 71/100\n",
      "11/11 [==============================] - 0s 3ms/step - loss: 1141710.7500 - val_loss: 1288790.1250\n",
      "Epoch 72/100\n",
      "11/11 [==============================] - 0s 3ms/step - loss: 1141405.0000 - val_loss: 1288813.1250\n",
      "Epoch 73/100\n",
      "11/11 [==============================] - 0s 3ms/step - loss: 1141111.6250 - val_loss: 1288652.3750\n",
      "Epoch 74/100\n",
      "11/11 [==============================] - 0s 3ms/step - loss: 1141171.6250 - val_loss: 1288236.8750\n",
      "Epoch 75/100\n",
      "11/11 [==============================] - 0s 3ms/step - loss: 1141492.7500 - val_loss: 1287785.5000\n",
      "Epoch 76/100\n",
      "11/11 [==============================] - 0s 4ms/step - loss: 1141726.8750 - val_loss: 1287405.7500\n",
      "Epoch 77/100\n",
      "11/11 [==============================] - 0s 4ms/step - loss: 1141098.7500 - val_loss: 1287309.1250\n",
      "Epoch 78/100\n",
      "11/11 [==============================] - 0s 3ms/step - loss: 1141016.6250 - val_loss: 1287272.7500\n",
      "Epoch 79/100\n",
      "11/11 [==============================] - 0s 3ms/step - loss: 1140886.3750 - val_loss: 1287158.3750\n",
      "Epoch 80/100\n",
      "11/11 [==============================] - 0s 3ms/step - loss: 1141085.2500 - val_loss: 1287181.1250\n",
      "Epoch 81/100\n",
      "11/11 [==============================] - 0s 3ms/step - loss: 1141107.2500 - val_loss: 1286796.6250\n",
      "Epoch 82/100\n",
      "11/11 [==============================] - 0s 3ms/step - loss: 1140795.0000 - val_loss: 1286565.6250\n",
      "Epoch 83/100\n",
      "11/11 [==============================] - 0s 3ms/step - loss: 1140882.1250 - val_loss: 1286586.3750\n",
      "Epoch 84/100\n",
      "11/11 [==============================] - 0s 3ms/step - loss: 1140891.8750 - val_loss: 1286436.0000\n",
      "Epoch 85/100\n",
      "11/11 [==============================] - 0s 3ms/step - loss: 1140925.5000 - val_loss: 1286520.1250\n",
      "Epoch 86/100\n",
      "11/11 [==============================] - 0s 3ms/step - loss: 1140746.5000 - val_loss: 1286468.0000\n",
      "Epoch 87/100\n",
      "11/11 [==============================] - 0s 4ms/step - loss: 1140811.2500 - val_loss: 1286362.1250\n",
      "Epoch 88/100\n",
      "11/11 [==============================] - 0s 4ms/step - loss: 1140761.3750 - val_loss: 1286454.8750\n",
      "Epoch 89/100\n",
      "11/11 [==============================] - 0s 4ms/step - loss: 1141002.6250 - val_loss: 1286553.1250\n",
      "Epoch 90/100\n",
      "11/11 [==============================] - 0s 4ms/step - loss: 1140866.3750 - val_loss: 1286563.3750\n",
      "Epoch 91/100\n",
      "11/11 [==============================] - 0s 3ms/step - loss: 1141037.5000 - val_loss: 1286332.8750\n",
      "Epoch 92/100\n",
      "11/11 [==============================] - 0s 3ms/step - loss: 1140979.2500 - val_loss: 1286406.7500\n",
      "Epoch 93/100\n",
      "11/11 [==============================] - 0s 3ms/step - loss: 1140899.1250 - val_loss: 1286332.1250\n",
      "Epoch 94/100\n",
      "11/11 [==============================] - 0s 3ms/step - loss: 1140886.8750 - val_loss: 1286284.6250\n",
      "Epoch 95/100\n",
      "11/11 [==============================] - 0s 5ms/step - loss: 1141554.6250 - val_loss: 1286482.5000\n",
      "Epoch 96/100\n",
      "11/11 [==============================] - 0s 3ms/step - loss: 1140789.3750 - val_loss: 1286243.3750\n",
      "Epoch 97/100\n",
      "11/11 [==============================] - 0s 3ms/step - loss: 1140672.8750 - val_loss: 1286127.8750\n",
      "Epoch 98/100\n",
      "11/11 [==============================] - 0s 3ms/step - loss: 1141368.0000 - val_loss: 1286670.8750\n",
      "Epoch 99/100\n",
      "11/11 [==============================] - 0s 3ms/step - loss: 1141852.8750 - val_loss: 1286227.3750\n",
      "Epoch 100/100\n",
      "11/11 [==============================] - 0s 3ms/step - loss: 1140980.5000 - val_loss: 1286562.1250\n",
      "Wall time: 3.88 s\n"
     ]
    }
   ],
   "source": [
    "%%time\n",
    "history = area_model.fit(\n",
    "    train_features['area'],\n",
    "    train_labels,\n",
    "    epochs=100,\n",
    "    # Suppress logging.\n",
    "    #verbose=0,\n",
    "    # Calculate validation results on 20% of the training data.\n",
    "    validation_split = 0.2)"
   ]
  },
  {
   "cell_type": "code",
   "execution_count": 30,
   "metadata": {},
   "outputs": [
    {
     "data": {
      "text/html": [
       "<div>\n",
       "<style scoped>\n",
       "    .dataframe tbody tr th:only-of-type {\n",
       "        vertical-align: middle;\n",
       "    }\n",
       "\n",
       "    .dataframe tbody tr th {\n",
       "        vertical-align: top;\n",
       "    }\n",
       "\n",
       "    .dataframe thead th {\n",
       "        text-align: right;\n",
       "    }\n",
       "</style>\n",
       "<table border=\"1\" class=\"dataframe\">\n",
       "  <thead>\n",
       "    <tr style=\"text-align: right;\">\n",
       "      <th></th>\n",
       "      <th>loss</th>\n",
       "      <th>val_loss</th>\n",
       "      <th>epoch</th>\n",
       "    </tr>\n",
       "  </thead>\n",
       "  <tbody>\n",
       "    <tr>\n",
       "      <th>95</th>\n",
       "      <td>1140789.375</td>\n",
       "      <td>1286243.375</td>\n",
       "      <td>95</td>\n",
       "    </tr>\n",
       "    <tr>\n",
       "      <th>96</th>\n",
       "      <td>1140672.875</td>\n",
       "      <td>1286127.875</td>\n",
       "      <td>96</td>\n",
       "    </tr>\n",
       "    <tr>\n",
       "      <th>97</th>\n",
       "      <td>1141368.000</td>\n",
       "      <td>1286670.875</td>\n",
       "      <td>97</td>\n",
       "    </tr>\n",
       "    <tr>\n",
       "      <th>98</th>\n",
       "      <td>1141852.875</td>\n",
       "      <td>1286227.375</td>\n",
       "      <td>98</td>\n",
       "    </tr>\n",
       "    <tr>\n",
       "      <th>99</th>\n",
       "      <td>1140980.500</td>\n",
       "      <td>1286562.125</td>\n",
       "      <td>99</td>\n",
       "    </tr>\n",
       "  </tbody>\n",
       "</table>\n",
       "</div>"
      ],
      "text/plain": [
       "           loss     val_loss  epoch\n",
       "95  1140789.375  1286243.375     95\n",
       "96  1140672.875  1286127.875     96\n",
       "97  1141368.000  1286670.875     97\n",
       "98  1141852.875  1286227.375     98\n",
       "99  1140980.500  1286562.125     99"
      ]
     },
     "execution_count": 30,
     "metadata": {},
     "output_type": "execute_result"
    }
   ],
   "source": [
    "hist = pd.DataFrame(history.history)\n",
    "hist['epoch'] = history.epoch\n",
    "hist.tail()"
   ]
  },
  {
   "cell_type": "code",
   "execution_count": 31,
   "metadata": {},
   "outputs": [],
   "source": [
    "def plot_loss(history):\n",
    "  plt.plot(history.history['loss'], label='loss')\n",
    "  plt.plot(history.history['val_loss'], label='val_loss')\n",
    "  #plt.ylim([0, 10])\n",
    "  plt.xlabel('Epoch')\n",
    "  plt.ylabel('Error [area]')\n",
    "  plt.legend()\n",
    "  plt.grid(True)"
   ]
  },
  {
   "cell_type": "code",
   "execution_count": 32,
   "metadata": {},
   "outputs": [
    {
     "data": {
      "image/png": "[encoded data removed]",
      "text/plain": [
       "<Figure size 640x480 with 1 Axes>"
      ]
     },
     "metadata": {},
     "output_type": "display_data"
    }
   ],
   "source": [
    "plot_loss(history)\n",
    "#The units of the error y axis, for each epoch, is the average absolute error of price (dollars)\n",
    "#loss is the error with respect with training data that the model was trainder on\n",
    "#val_loss is the error with respect to validation data\n",
    "#Would expect the error of val_loss to be higher than loss, as the model wasn't trained on validation data\n",
    "#Initially the learning rate for the model was set too low and the model wasn't improving anywhere near quick enough over each epoch\n",
    "#Then the learning rate was set too high and was overshooting in either direction - very erratic\n",
    "#Then the learning rate was set to a sweet spot and yielded a good result\n",
    "#An indication that the it hasn't had enough time is if the curve is still declining, it hasn't found the optimal model.\n",
    "#Would need more epochs or edits to the learning rate"
   ]
  },
  {
   "cell_type": "code",
   "execution_count": 33,
   "metadata": {},
   "outputs": [],
   "source": [
    "test_results = {}\n",
    "\n",
    "test_results['area_model'] = area_model.evaluate(\n",
    "    test_features['area'],\n",
    "    test_labels, verbose=0)"
   ]
  },
  {
   "cell_type": "code",
   "execution_count": 34,
   "metadata": {},
   "outputs": [
    {
     "name": "stdout",
     "output_type": "stream",
     "text": [
      "8/8 [==============================] - 0s 785us/step\n"
     ]
    }
   ],
   "source": [
    "x = tf.linspace(0.0, 16000, 251)\n",
    "y = area_model.predict(x)"
   ]
  },
  {
   "cell_type": "code",
   "execution_count": 35,
   "metadata": {},
   "outputs": [],
   "source": [
    "def plot_area(x, y):\n",
    "  plt.scatter(train_features['area'], train_labels, label='Data')\n",
    "  plt.plot(x, y, color='k', label='Predictions')\n",
    "  plt.xlabel('area')\n",
    "  plt.ylabel('price')\n",
    "  plt.legend()"
   ]
  },
  {
   "cell_type": "code",
   "execution_count": 36,
   "metadata": {},
   "outputs": [
    {
     "data": {
      "image/png": "[encoded data removed]",
      "text/plain": [
       "<Figure size 640x480 with 1 Axes>"
      ]
     },
     "metadata": {},
     "output_type": "display_data"
    }
   ],
   "source": [
    "plot_area(x, y)\n",
    "#In this model, which is a linear model for a single input, the network would have a single weighting for input layer x and a single output neuron in the next layer for y\n",
    "#y=mx+c m as the weighting 'm' for input 'x' output 'y'\n",
    "#Seems like tensorflow is intended for deeper neaural networks, since some features that are not applicable to deeper networks are not available\n",
    "#For example, I'd like to extract the equation for the model, the coefficients and constant, but this doesn't seem readily doable"
   ]
  },
  {
   "cell_type": "code",
   "execution_count": null,
   "metadata": {},
   "outputs": [],
   "source": []
  }
 ],
 "metadata": {
  "kernelspec": {
   "display_name": "Python 3.10.0 64-bit",
   "language": "python",
   "name": "python3"
  },
  "language_info": {
   "codemirror_mode": {
    "name": "ipython",
    "version": 3
   },
   "file_extension": ".py",
   "mimetype": "text/x-python",
   "name": "python",
   "nbconvert_exporter": "python",
   "pygments_lexer": "ipython3",
   "version": "3.10.0"
  },
  "orig_nbformat": 4,
  "vscode": {
   "interpreter": {
    "hash": "47bf9465a07b57669b0e1d698703dd8dabb51977bd99a06702fb496f426eb3a3"
   }
  }
 },
 "nbformat": 4,
 "nbformat_minor": 2
}
